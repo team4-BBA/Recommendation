{
  "nbformat": 4,
  "nbformat_minor": 0,
  "metadata": {
    "colab": {
      "name": "wetelework",
      "provenance": [],
      "collapsed_sections": [],
      "machine_shape": "hm"
    },
    "kernelspec": {
      "name": "python3",
      "display_name": "Python 3"
    },
    "accelerator": "GPU"
  },
  "cells": [
    {
      "cell_type": "markdown",
      "metadata": {
        "id": "AFAGStdxcbGm",
        "colab_type": "text"
      },
      "source": [
        "## 必要ライブラリのインストール"
      ]
    },
    {
      "cell_type": "code",
      "metadata": {
        "id": "FTCYFdAM2waj",
        "colab_type": "code",
        "colab": {}
      },
      "source": [
        "!apt install aptitude\n",
        "!aptitude install mecab libmecab-dev mecab-ipadic-utf8 git make curl xz-utils file -y\n",
        "!pip install mecab-python3==0.7"
      ],
      "execution_count": null,
      "outputs": []
    },
    {
      "cell_type": "code",
      "metadata": {
        "id": "ulVpfO3L_hoQ",
        "colab_type": "code",
        "colab": {}
      },
      "source": [
        "from google.colab import drive\n",
        "drive.mount('/content/drive')"
      ],
      "execution_count": null,
      "outputs": []
    },
    {
      "cell_type": "code",
      "metadata": {
        "id": "Oi8Zfp1jAWCi",
        "colab_type": "code",
        "colab": {}
      },
      "source": [
        "#ja.zip was downloaded from https://drive.google.com/file/d/0B0ZXk88koS2KMzRjbnE4ZHJmcWM/view  via google drive\n",
        "!unzip  /content/drive/My\\ Drive/ja.zip"
      ],
      "execution_count": null,
      "outputs": []
    },
    {
      "cell_type": "code",
      "metadata": {
        "id": "13d1QSwrzjNk",
        "colab_type": "code",
        "colab": {}
      },
      "source": [
        "import MeCab\n",
        "import numpy as np\n",
        "import time\n",
        "import requests\n",
        "from bs4 import BeautifulSoup\n",
        "import torch\n",
        "import torch.nn as nn\n",
        "import torch.nn.functional as F\n",
        "import torch.optim as optim\n",
        "\n",
        "import os\n",
        "device = torch.device(\"cuda\" if torch.cuda.is_available() else \"cpu\")\n"
      ],
      "execution_count": 33,
      "outputs": []
    },
    {
      "cell_type": "markdown",
      "metadata": {
        "id": "4Y8JBnCyc0pD",
        "colab_type": "text"
      },
      "source": [
        "## ベクトル化関数"
      ]
    },
    {
      "cell_type": "code",
      "metadata": {
        "id": "pIxULMNs6pW4",
        "colab_type": "code",
        "colab": {}
      },
      "source": [
        "def tokenizer(text):\n",
        "    tokens=[]\n",
        "    tagger = MeCab.Tagger(\"-Ochasen\")\n",
        "    node = tagger.parse(text).split('\\n')\n",
        "    for n in node:\n",
        "        if ( '名詞' in n):\n",
        "            tokens.append(n.split('\\t')[0])\n",
        "        if(n=='EOS'):\n",
        "            break\n",
        "    return tokens"
      ],
      "execution_count": 91,
      "outputs": []
    },
    {
      "cell_type": "code",
      "metadata": {
        "id": "Bg6EUcw68p6E",
        "colab_type": "code",
        "colab": {}
      },
      "source": [
        "# wikipedia pretrained model\n",
        "!pip install gensim\n",
        "import gensim\n",
        "model = gensim.models.Word2Vec.load('ja.bin')"
      ],
      "execution_count": null,
      "outputs": []
    },
    {
      "cell_type": "code",
      "metadata": {
        "id": "JE2KCZNNBODb",
        "colab_type": "code",
        "colab": {}
      },
      "source": [
        "def personal_vector(words):\n",
        "    tokens=tokenizer(words)\n",
        "    num_token=0\n",
        "    v=[0.]*300\n",
        "    for t in tokens:\n",
        "        try :\n",
        "            v=v+model[t]\n",
        "            num_token+=1\n",
        "        except KeyError:\n",
        "            pass\n",
        "        return v/num_token"
      ],
      "execution_count": 75,
      "outputs": []
    },
    {
      "cell_type": "code",
      "metadata": {
        "id": "9v1n326yDIH4",
        "colab_type": "code",
        "colab": {}
      },
      "source": [
        "personal_vector('山と川')"
      ],
      "execution_count": null,
      "outputs": []
    },
    {
      "cell_type": "code",
      "metadata": {
        "id": "oyxSsSKQEIeh",
        "colab_type": "code",
        "colab": {}
      },
      "source": [
        "def hotel_vector(hotel_id):\n",
        "    v=[0.]*300\n",
        "    num_token=0\n",
        "    for i in range(0,100,20):#100件取得\n",
        "        load_url = \"https://review.travel.rakuten.co.jp/hotel/voice/\"+str(hotel_id)+\"/?f_sort=4&f_next=\"+str(i)\n",
        "        html = requests.get(load_url)\n",
        "        soup = BeautifulSoup(html.content, \"html.parser\")\n",
        "        elements = soup.find_all(class_='commentSentence')\n",
        "        for e in elements:\n",
        "            if e is not []:\n",
        "                ts=tokenizer(e.text)\n",
        "            for t in ts:\n",
        "                try:\n",
        "                    v+=model[t]\n",
        "                    num_token+=1\n",
        "                except KeyError:\n",
        "                    pass\n",
        "    v=v/num_token \n",
        "    return v"
      ],
      "execution_count": 94,
      "outputs": []
    },
    {
      "cell_type": "code",
      "metadata": {
        "id": "MUFDUMY_K3gg",
        "colab_type": "code",
        "colab": {
          "base_uri": "https://localhost:8080/",
          "height": 71
        },
        "outputId": "9b4d88d8-2dc2-4774-953b-ab356cfe4d1d"
      },
      "source": [
        "hoshino_resort_sapporo=hotel_vector(165109)"
      ],
      "execution_count": 95,
      "outputs": [
        {
          "output_type": "stream",
          "text": [
            "/usr/local/lib/python3.6/dist-packages/ipykernel_launcher.py:14: DeprecationWarning: Call to deprecated `__getitem__` (Method will be removed in 4.0.0, use self.wv.__getitem__() instead).\n",
            "  \n"
          ],
          "name": "stderr"
        }
      ]
    },
    {
      "cell_type": "code",
      "metadata": {
        "id": "iBkdx5C1PEJY",
        "colab_type": "code",
        "colab": {
          "base_uri": "https://localhost:8080/",
          "height": 275
        },
        "outputId": "71f92c1d-3050-4b5c-c58f-7360bd61c2ef"
      },
      "source": [
        "model.similar_by_vector(hoshino_resort_sapporo)"
      ],
      "execution_count": 96,
      "outputs": [
        {
          "output_type": "stream",
          "text": [
            "/usr/local/lib/python3.6/dist-packages/ipykernel_launcher.py:1: DeprecationWarning: Call to deprecated `similar_by_vector` (Method will be removed in 4.0.0, use self.wv.similar_by_vector() instead).\n",
            "  \"\"\"Entry point for launching an IPython kernel.\n",
            "/usr/local/lib/python3.6/dist-packages/gensim/matutils.py:737: FutureWarning: Conversion of the second argument of issubdtype from `int` to `np.signedinteger` is deprecated. In future, it will be treated as `np.int64 == np.dtype(int).type`.\n",
            "  if np.issubdtype(vec.dtype, np.int):\n"
          ],
          "name": "stderr"
        },
        {
          "output_type": "execute_result",
          "data": {
            "text/plain": [
              "[('ご', 0.5899515151977539),\n",
              " ('レストラン', 0.5697121024131775),\n",
              " ('ショッピング', 0.5278029441833496),\n",
              " ('料亭', 0.5019051432609558),\n",
              " ('メニュー', 0.5013384819030762),\n",
              " ('カフェ', 0.49937140941619873),\n",
              " ('スイーツ', 0.49858057498931885),\n",
              " ('グルメ', 0.4977513551712036),\n",
              " ('スナック', 0.49663758277893066),\n",
              " ('ファミリーレストラン', 0.4934089183807373)]"
            ]
          },
          "metadata": {
            "tags": []
          },
          "execution_count": 96
        }
      ]
    },
    {
      "cell_type": "markdown",
      "metadata": {
        "id": "RPjvl6pfbZ_n",
        "colab_type": "text"
      },
      "source": [
        "## 適当にどんなワードが多いか見てみる"
      ]
    },
    {
      "cell_type": "code",
      "metadata": {
        "id": "vq4UPMGtWTPi",
        "colab_type": "code",
        "colab": {
          "base_uri": "https://localhost:8080/",
          "height": 71
        },
        "outputId": "559021af-0a38-4af8-8c75-98219d1cbea9"
      },
      "source": [
        "dictionary=set()\n",
        "num_token=0\n",
        "for i in range(0,20,20):#20件取得\n",
        "    load_url = \"https://review.travel.rakuten.co.jp/hotel/voice/\"+str(165109)+\"/?f_sort=4&f_next=\"+str(i)\n",
        "    html = requests.get(load_url)\n",
        "    soup = BeautifulSoup(html.content, \"html.parser\")\n",
        "    elements = soup.find_all(class_='commentSentence')\n",
        "    for e in elements:\n",
        "        if e is not []:\n",
        "            ts=tokenizer(e.text)\n",
        "        for t in ts:\n",
        "            try:\n",
        "                tmp=model[t]\n",
        "                num_token+=1\n",
        "                dictionary.update([t])\n",
        "            except KeyError:\n",
        "                pass"
      ],
      "execution_count": 133,
      "outputs": [
        {
          "output_type": "stream",
          "text": [
            "/usr/local/lib/python3.6/dist-packages/ipykernel_launcher.py:13: DeprecationWarning: Call to deprecated `__getitem__` (Method will be removed in 4.0.0, use self.wv.__getitem__() instead).\n",
            "  del sys.path[0]\n"
          ],
          "name": "stderr"
        }
      ]
    },
    {
      "cell_type": "code",
      "metadata": {
        "id": "xf6lKoSoWyoQ",
        "colab_type": "code",
        "colab": {}
      },
      "source": [
        "counter={}\n",
        "for d in dictionary:\n",
        "    counter[d]=0"
      ],
      "execution_count": 134,
      "outputs": []
    },
    {
      "cell_type": "code",
      "metadata": {
        "id": "_VdK4rjyYz2z",
        "colab_type": "code",
        "colab": {
          "base_uri": "https://localhost:8080/",
          "height": 71
        },
        "outputId": "8a98d7d2-24f0-40f6-8703-217290a5a16f"
      },
      "source": [
        "for i in range(0,20,20):#20件取得\n",
        "    load_url = \"https://review.travel.rakuten.co.jp/hotel/voice/\"+str(165109)+\"/?f_sort=4&f_next=\"+str(i)\n",
        "    html = requests.get(load_url)\n",
        "    soup = BeautifulSoup(html.content, \"html.parser\")\n",
        "    elements = soup.find_all(class_='commentSentence')\n",
        "    for e in elements:\n",
        "        if e is not []:\n",
        "            ts=tokenizer(e.text)\n",
        "        for t in ts:\n",
        "            try:\n",
        "                tmp=model[t]\n",
        "                counter[t]+=1\n",
        "            except KeyError:\n",
        "                pass"
      ],
      "execution_count": 135,
      "outputs": [
        {
          "output_type": "stream",
          "text": [
            "/usr/local/lib/python3.6/dist-packages/ipykernel_launcher.py:11: DeprecationWarning: Call to deprecated `__getitem__` (Method will be removed in 4.0.0, use self.wv.__getitem__() instead).\n",
            "  # This is added back by InteractiveShellApp.init_path()\n"
          ],
          "name": "stderr"
        }
      ]
    },
    {
      "cell_type": "code",
      "metadata": {
        "id": "fOqRIoDVZGqw",
        "colab_type": "code",
        "colab": {}
      },
      "source": [
        "for k, v in sorted(counter.items(), key=lambda x: -x[1]):\n",
        "    print(str(k) + \": \" + str(v))"
      ],
      "execution_count": null,
      "outputs": []
    }
  ]
}